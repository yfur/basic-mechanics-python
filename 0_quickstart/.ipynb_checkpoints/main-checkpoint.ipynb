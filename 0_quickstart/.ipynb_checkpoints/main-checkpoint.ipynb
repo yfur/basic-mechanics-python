{
 "cells": [
  {
   "cell_type": "markdown",
   "metadata": {},
   "source": [
    "# Quick Start: 力学シミュレーションを行う\n",
    "\n",
    "<img src=\"figure/pendulum.png\" width=\"300\">\n",
    "\n",
    "例として， [単振り子](https://ja.wikipedia.org/wiki/%E6%8C%AF%E3%82%8A%E5%AD%90#.E5.8D.98.E6.8C.AF.E3.82.8A.E5.AD.90) の運動をシミュレーションする．\n",
    "\n",
    "## 0. はじめに\n",
    "\n",
    "一言に力学シミュレーションといってもやりようはいくらでもあるのだが，これを\n",
    "\n",
    "1. ** モデル化 **\n",
    "2. ** 計算 **\n",
    "3. ** 視覚化 **\n",
    "\n",
    "の3つのプロセスに分けて考える．\n",
    "\n",
    "まず，一つ目の「モデル化」について．これは，例えば考える物理モデルからニュートンの運動方程式を導くプロセスのことである．中学の理科，高校の物理，大学の力学などの講義で勉強したのはこの部分である．\n",
    "\n",
    "次に，二つ目の「計算」について．これは，Python プログラムを用いてコンピュータ上で運動を計算させるプロセスのことである．大学の座学の講義ではおそらく詳しくは勉強しない．あるいは，コンピュータを使った演習授業で軽く触れることはあるかもしれないが，その中身をよく吟味する機会はないと思う．\n",
    "\n",
    "最後に，「視覚化」について．「計算」のプロセスでコンピュータは振り子の運動を与えられたモデル情報に基づいて計算し，その結果を数字の羅列で表現している．例えば\n",
    "\n",
    "> シミュレーション開始0秒後，振り子は0度の位置にいる\n",
    "> \n",
    "> シミュレーション開始1秒後，振り子は10度の位置にいる\n",
    ">\n",
    "> シミュレーション開始2秒後，振り子は0度の位置にいる\n",
    ">\n",
    "> シミュレーション開始3秒後，振り子は$-$10度の位置にいる\n",
    ">\n",
    "> ... \n",
    "\n",
    "という情報が，\n",
    "\n",
    "| 時間 | 位置 |  \n",
    "|:------:|:---------:|\n",
    "| 0     |  0      |\n",
    "| 1     | 10     |\n",
    "| 2     |  0      |\n",
    "| 3     | 20     |\n",
    "\n",
    "のような行列となって生成されている．しかし，この数字の羅列だけでは，物体の運動がどのようになっているのかがわからない．そこで，これをグラフにしたりアニメーションにしたりすることで，運動を直感的に理解できるようにする．"
   ]
  },
  {
   "cell_type": "markdown",
   "metadata": {},
   "source": [
    "## 1. モデル化\n",
    "\n",
    "<img src=\"figure/pendulum_model.png\" width=\"300\">\n",
    "\n",
    "図のような，よくある [単振り子の力学モデル](https://ja.wikipedia.org/wiki/%E6%8C%AF%E3%82%8A%E5%AD%90#.E5.8D.98.E6.8C.AF.E3.82.8A.E5.AD.90) を考える．振り子の角度を$\\theta$，振り子の長さを$l$，振り子の先端のおもりの質量を$m$，鉛直下向きにはたらく重力の重力加速度を$g$としている．\n",
    "\n",
    "おもりの運動方向にはたらく力は\n",
    "\\begin{align}\n",
    "F = -mg\\sin\\theta\n",
    "\\end{align}\n",
    "である．おもりの運動方向の加速度は$a = l\\ddot{\\theta}$なので，ニュートンの運動方程式 ($ma=F$) は，\n",
    "\\begin{align}\n",
    "m l\\ddot{\\theta} &= -mg\\sin\\theta \\\\\n",
    "&\\Updownarrow \\\\\n",
    "\\ddot{\\theta} &= -\\frac{g}{l}\\sin\\theta\n",
    "\\end{align}\n",
    "である．\n",
    "\n",
    "さて，単振り子のモデルを考える上で，時間の経過とともに値が変化する　*変数* と，時間の経過に関わらず値が変化しない *定数* が存在した．$\\theta$ が前者であり，$m$，$l$，$g$が後者である．** 1. モデル化 ** のプロセスで達成するべきことは，運動方程式を*変数* について，\n",
    "\n",
    "\\begin{align}\n",
    "m l\\ddot{\\theta} &= -mg\\sin\\theta \\\\\n",
    "&\\Updownarrow \\\\\n",
    "\\ddot{\\theta} &= -\\frac{g}{l}\\sin\\theta\n",
    "\\end{align}"
   ]
  },
  {
   "cell_type": "markdown",
   "metadata": {},
   "source": []
  },
  {
   "cell_type": "code",
   "execution_count": null,
   "metadata": {
    "collapsed": true
   },
   "outputs": [],
   "source": []
  }
 ],
 "metadata": {
  "kernelspec": {
   "display_name": "Python 3",
   "language": "python",
   "name": "python3"
  },
  "language_info": {
   "codemirror_mode": {
    "name": "ipython",
    "version": 3
   },
   "file_extension": ".py",
   "mimetype": "text/x-python",
   "name": "python",
   "nbconvert_exporter": "python",
   "pygments_lexer": "ipython3",
   "version": "3.6.0"
  }
 },
 "nbformat": 4,
 "nbformat_minor": 2
}
