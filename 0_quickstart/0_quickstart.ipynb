{
 "cells": [
  {
   "cell_type": "markdown",
   "metadata": {},
   "source": [
    "# Quick Start: 単振り子の運動をシミュレーション\n",
    "\n",
    "<img src=\"figure/pendulum.png\" width=\"300\">\n",
    "\n",
    "例として， [単振り子](https://ja.wikipedia.org/wiki/%E6%8C%AF%E3%82%8A%E5%AD%90#.E5.8D.98.E6.8C.AF.E3.82.8A.E5.AD.90) の運動をシミュレーションする．\n",
    "\n",
    "## 0. はじめに\n",
    "\n",
    "一言に力学シミュレーションといっても，その方法は多様であり，いくつもの方法があるのだが，そのうちの一つを例としてあげる．シミュレーションを行うために必要な作業を\n",
    "\n",
    "1. ** モデル化 **\n",
    "2. ** 数値計算 **\n",
    "3. ** 視覚化 **\n",
    "\n",
    "の3つのプロセスに分けて考える．\n",
    "\n",
    "まず，一つ目の「モデル化」について．これは，例えば考える物理モデルからニュートンの運動方程式を導くプロセスのことである．中学の理科，高校の物理，大学の力学などの講義で勉強したのはこの部分である．\n",
    "\n",
    "次に，二つ目の「数値計算」について．これは，Python プログラムを用いてコンピュータ上で運動を計算させるプロセスのことである．大学の座学の講義ではおそらく詳しくは勉強しない．あるいは，コンピュータを使った演習授業で軽く触れることはあるかもしれないが，その中身をよく吟味する機会はあまりないかもしれない．\n",
    "\n",
    "最後に，「視覚化」について．「計算」のプロセスでコンピュータは振り子の運動を与えられたモデル情報に基づいて計算し，その結果を数字の羅列で表現している．例えば\n",
    "\n",
    "> シミュレーション開始0秒後，振り子は10 [rad]の位置にいる\n",
    "> \n",
    "> シミュレーション開始1秒後，振り子は0 [rad]の位置にいる\n",
    ">\n",
    "> シミュレーション開始2秒後，振り子は-10 [rad]の位置にいる\n",
    ">\n",
    "> シミュレーション開始3秒後，振り子は0 [rad]の位置にいる\n",
    ">\n",
    "> ... \n",
    "\n",
    "という情報が，\n",
    "\n",
    "| 時間 | 位置 |  \n",
    "|:------:|:---------:|\n",
    "| 0     |  10      |\n",
    "| 1     | 0     |\n",
    "| 2     | -10      |\n",
    "| 3     | 0     |\n",
    "\n",
    "のような行列となって生成されている．しかし，この数字の羅列だけでは，物体の運動がどのようになっているのかがわからない．そこで，これをグラフにしたりアニメーションにしたりすることで，運動を直感的に理解できるようにする．この部分についても，普通はあまり触れることがないと思う．"
   ]
  },
  {
   "cell_type": "markdown",
   "metadata": {},
   "source": [
    "## 1. モデル化\n",
    "\n",
    "<img src=\"figure/pendulum_model.png\" width=\"300\">\n",
    "\n",
    "図のような，よくある [単振り子の力学モデル](https://ja.wikipedia.org/wiki/%E6%8C%AF%E3%82%8A%E5%AD%90#.E5.8D.98.E6.8C.AF.E3.82.8A.E5.AD.90) を考える．振り子の角度を$\\theta$，振り子の長さを$l$，振り子の先端のおもりの質量を$m$，鉛直下向きにはたらく重力の重力加速度を$g$としている．\n",
    "\n",
    "おもりの運動方向にはたらく力は\n",
    "\\begin{align}\n",
    "F = -mg\\sin\\theta\n",
    "\\end{align}\n",
    "である．おもりの運動方向の加速度は$a = l\\ddot{\\theta}$なので，ニュートンの運動方程式 ($ma=F$) は，\n",
    "\\begin{align}\n",
    "m l\\ddot{\\theta}= -mg\\sin\\theta \\quad \\Leftrightarrow \\quad \\ddot{\\theta} = -\\frac{g}{l}\\sin\\theta\n",
    "\\end{align}\n",
    "である．\n",
    "\n",
    "さて，単振り子のモデルを考える上で，時間の経過とともに値が変化する　**変数** と，時間の経過に関わらず値が変化しない **定数** が存在した．$\\theta$ が前者であり，$m$，$l$，$g$が後者である．** 1. モデル化 ** のプロセスで達成するべきことは，運動方程式を**変数** について整理し，「（変数の時間の微分項）$=$（それ以外の項）」という式を得ることである．"
   ]
  },
  {
   "cell_type": "markdown",
   "metadata": {},
   "source": [
    "## 2. 数値計算\n",
    "\n",
    "**1. モデル化** では変数$\\theta$についての運動方程式を導いたが， **2. 数値計算** では，これを用いて **常微分方程式** を構築する．\n",
    "\n",
    "まず，$\\theta$自身とその一階微分である$\\dot{\\theta}$を縦に並べた列ベクトルをつくり，これを$s$とする．\n",
    "\\begin{align}\n",
    "  s = \n",
    "  \\begin{bmatrix}\n",
    "    \\theta \\\\ \\dot{\\theta}\n",
    "  \\end{bmatrix}\n",
    "\\end{align}\n",
    "そして，$s$の時間の一階微分を式で表す．ここで，$\\ddot{\\theta}$は先ほど求めた運動方程式によって，$\\ddot{\\theta}$を含まない形で表すことができる．\n",
    "\\begin{align}\n",
    "  \\frac{d}{dt} s = \n",
    "  \\begin{bmatrix}\n",
    "    \\dot{\\theta} \\\\ \\ddot{\\theta}\n",
    "  \\end{bmatrix} = \n",
    "  \\begin{bmatrix}\n",
    "    \\dot{\\theta} \\\\ -\\frac{g}{l}\\sin\\theta\n",
    "  \\end{bmatrix}\n",
    "\\end{align}\n",
    "こうして得られた常微分方程式は，数値計算に適した形となっている．具体的には，$\\theta = $ `s[0]` ，$\\dot{\\theta} = $ `s[1]` とすることで，\n",
    "\n",
    "```\n",
    "def odefunc(s, t):\n",
    "    theta = s[0]\n",
    "    dtheta = s[1]\n",
    "    ddtheta = -g/l*sin(theta)\n",
    "    return np.r_[dtheta, ddtheta]\n",
    "```\n",
    "のようにして常微分方程式をPythonの関数として記述したうえで\n",
    "\n",
    "```\n",
    "s = odeint(odefunc, s_init, t)\n",
    "```\n",
    "を実行することで常微分方程式を数値的に解くことができる．ただし [`odeint`](https://docs.scipy.org/doc/scipy-0.18.1/reference/generated/scipy.integrate.odeint.html) は [SciPy](https://www.scipy.org/) ライブラリの `integrate` クラスで定義されている，常微分方程式を解く関数である．"
   ]
  },
  {
   "cell_type": "code",
   "execution_count": 31,
   "metadata": {
    "collapsed": false
   },
   "outputs": [
    {
     "name": "stdout",
     "output_type": "stream",
     "text": [
      "ODE calculation finished.\n"
     ]
    }
   ],
   "source": [
    "import numpy as np\n",
    "from scipy.integrate import odeint\n",
    "from math import sin\n",
    "\n",
    "''' constants '''\n",
    "m = 1 # mass of the pendulum\n",
    "l = 10 # length of the pendulum\n",
    "g = 10 # Gravitational acceleration\n",
    "\n",
    "''' time setting '''\n",
    "t_end = 20 # simulation time\n",
    "fps = 50 # frame per second. This value means smoothness of produced graph and animation\n",
    "tstep = 1/fps \n",
    "t = np.arange(0, 20, tstep) # \n",
    "\n",
    "''' initial value '''\n",
    "theta_init = 0 # initial value of theta\n",
    "dtheta_init = 1 # initial value of dot theta\n",
    "s_init = np.array([theta_init, dtheta_init])\n",
    "\n",
    "def odefunc(s, t):\n",
    "    theta = s[0]\n",
    "    dtheta = s[1]\n",
    "    ddtheta = -g/l*sin(theta) # <- Equation of motion\n",
    "    return np.r_[dtheta, ddtheta]\n",
    "\n",
    "s = odeint(dae, s_init, t)\n",
    "print('ODE calculation finished.')"
   ]
  },
  {
   "cell_type": "markdown",
   "metadata": {},
   "source": [
    "以上が数値計算を行うプログラムである．\n",
    "```\n",
    "print(np.c_[t, s])\n",
    "```\n",
    "とすることで，\n",
    "\n",
    "| 時間 | 振子の角度 | 振子の角速度 |  \n",
    "|:------:|:---------:|:---------:|\n",
    "| 0.     |  0.      | 1. |\n",
    "|... | ... | ... |\n",
    "| 19.98   | -0.246 | 0.969 |\n",
    "\n",
    "のように，それぞれの時間で振子の角度がどのようになっていて，また振子の角速度がどのようになっているのかを確認することができる．"
   ]
  },
  {
   "cell_type": "code",
   "execution_count": 30,
   "metadata": {
    "collapsed": false
   },
   "outputs": [
    {
     "name": "stdout",
     "output_type": "stream",
     "text": [
      "[[  0.           0.           1.        ]\n",
      " [  0.02         0.01999867   0.99980001]\n",
      " [  0.04         0.03998935   0.99920022]\n",
      " ..., \n",
      " [ 19.94        -0.28501457   0.958809  ]\n",
      " [ 19.96        -0.26578339   0.96424771]\n",
      " [ 19.98        -0.24644715   0.96931428]]\n"
     ]
    }
   ],
   "source": [
    "print(np.c_[t, s])"
   ]
  },
  {
   "cell_type": "markdown",
   "metadata": {},
   "source": [
    "## 3. 可視化"
   ]
  },
  {
   "cell_type": "code",
   "execution_count": 24,
   "metadata": {
    "collapsed": false
   },
   "outputs": [
    {
     "data": {
      "text/plain": [
       "[<matplotlib.lines.Line2D at 0x117036630>]"
      ]
     },
     "execution_count": 24,
     "metadata": {},
     "output_type": "execute_result"
    },
    {
     "data": {
      "image/png": "[encoded data removed]",
      "text/plain": [
       "<matplotlib.figure.Figure at 0x1160aaa58>"
      ]
     },
     "metadata": {},
     "output_type": "display_data"
    }
   ],
   "source": [
    "%matplotlib inline\n",
    "import matplotlib.pyplot as plt\n",
    "plt.plot(t, s[:, 0])"
   ]
  },
  {
   "cell_type": "code",
   "execution_count": null,
   "metadata": {
    "collapsed": true
   },
   "outputs": [],
   "source": []
  }
 ],
 "metadata": {
  "kernelspec": {
   "display_name": "Python 3",
   "language": "python",
   "name": "python3"
  },
  "language_info": {
   "codemirror_mode": {
    "name": "ipython",
    "version": 3
   },
   "file_extension": ".py",
   "mimetype": "text/x-python",
   "name": "python",
   "nbconvert_exporter": "python",
   "pygments_lexer": "ipython3",
   "version": "3.6.0"
  }
 },
 "nbformat": 4,
 "nbformat_minor": 2
}
