{
 "cells": [
  {
   "cell_type": "markdown",
   "metadata": {},
   "source": [
    "# Quick Start: 単振り子の運動をシミュレーション\n",
    "\n",
    "<img src=\"figure/pendulum.png\" width=\"300\">\n",
    "\n",
    "[単振り子](https://ja.wikipedia.org/wiki/%E6%8C%AF%E3%82%8A%E5%AD%90#.E5.8D.98.E6.8C.AF.E3.82.8A.E5.AD.90) の運動をシミュレーションする．\n",
    "\n",
    "## 0. はじめに\n",
    "\n",
    "一言に力学シミュレーションといっても，その方法は多様であり，いくつもの方法があるのだが，そのうちの一つを例としてあげる．シミュレーションを行うために必要な作業を\n",
    "\n",
    "1. ** モデル化 **\n",
    "2. ** 数値計算 **\n",
    "3. ** 視覚化 **\n",
    "\n",
    "の3つのプロセスに分けて考える．\n",
    "\n",
    "まず，一つ目の「モデル化」について．これは，例えば考える物理モデルからニュートンの運動方程式を導くプロセスのことである．\n",
    "\n",
    "次に，二つ目の「数値計算」について．これは，Python プログラムを用いてコンピュータ上で運動を計算させるプロセスのことである．このプロセスでコンピュータは振り子の運動を与えられたモデル情報に基づいて計算し，その結果を数値で示す．例えば\n",
    "\n",
    "> シミュレーション開始0秒後，振り子は10 [rad]の位置にいる\n",
    "> \n",
    "> シミュレーション開始1秒後，振り子は0 [rad]の位置にいる\n",
    ">\n",
    "> シミュレーション開始2秒後，振り子は-10 [rad]の位置にいる\n",
    ">\n",
    "> シミュレーション開始3秒後，振り子は0 [rad]の位置にいる\n",
    ">\n",
    "> ... \n",
    "\n",
    "という情報が，\n",
    "\n",
    "| 時間 | 位置 |  \n",
    "|:------:|:---------:|\n",
    "| 0     |  10      |\n",
    "| 1     | 0     |\n",
    "| 2     | -10      |\n",
    "| 3     | 0     |\n",
    "\n",
    "のような行列となって生成される．\n",
    "\n",
    "最後に，「視覚化」について．「数値計算」によって得られた数値のデータは，あくまで数字の羅列であり，これだけでは物体の運動を理解しようとするのは難しい．そこで，運動を直感的に理解できるようにするために，この数値データからグラフやアニメーションを生成する．"
   ]
  },
  {
   "cell_type": "markdown",
   "metadata": {},
   "source": [
    "## 1. モデル化\n",
    "\n",
    "<img src=\"figure/pendulum_model.png\" width=\"300\">\n",
    "\n",
    "図のような，よくある [単振り子の力学モデル](https://ja.wikipedia.org/wiki/%E6%8C%AF%E3%82%8A%E5%AD%90#.E5.8D.98.E6.8C.AF.E3.82.8A.E5.AD.90) を考える．振り子の角度を$\\theta$，振り子の長さを$l$，振り子の先端のおもりの質量を$m$，鉛直下向きにはたらく重力の重力加速度を$g$としている．\n",
    "\n",
    "おもりの運動方向にはたらく力は\n",
    "\\begin{align}\n",
    "F = -mg\\sin\\theta\n",
    "\\end{align}\n",
    "である．おもりの運動方向の加速度は$l\\ddot{\\theta}$なので，ニュートンの運動方程式 ($ma=F$) は，\n",
    "\\begin{align}\n",
    "m l\\ddot{\\theta}= -mg\\sin\\theta \n",
    "\\end{align}\n",
    "したがって，\n",
    "\\begin{align}\n",
    "\\ddot{\\theta} = -\\frac{g}{l}\\sin\\theta\n",
    "\\end{align}\n",
    "である．\n",
    "\n",
    "さて，単振り子のモデルを考える上で，時間の経過とともに値が変化する　**変数** と，時間の経過に関わらず値が変化しない **定数** が存在した．$\\theta$ が前者であり，$m$，$l$，$g$が後者である．** 1. モデル化 ** のプロセスで達成することは，運動方程式を**変数** について整理し，「（変数の時間の微分項）$=$（それ以外の項）」という式を得ることである．"
   ]
  },
  {
   "cell_type": "markdown",
   "metadata": {},
   "source": [
    "## 2. 数値計算\n",
    "\n",
    "**1. モデル化** では変数$\\theta$についての運動方程式を導いたが， **2. 数値計算** では，これを用いて **常微分方程式** を構築する．\n",
    "\n",
    "まず，$\\theta$自身とその一階微分である$\\dot{\\theta}$を縦に並べた列ベクトルをつくり，これを$s$とする．\n",
    "\\begin{align}\n",
    "  s = \n",
    "  \\left[\n",
    "  \\begin{array}{c}\n",
    "    \\theta \\\\ \\dot{\\theta}\n",
    "  \\end{array}\n",
    "  \\right]\n",
    "  \\begin{bmatrix}\n",
    "    \\theta \\\\ \\dot{\\theta}\n",
    "  \\end{bmatrix}\n",
    "\\end{align}\n",
    "そして，$s$の時間の一階微分を式で表す．ここで，$\\ddot{\\theta}$は先ほど求めた運動方程式によって，$\\ddot{\\theta}$を含まない形で表すことができる．\n",
    "\\begin{align}\n",
    "  \\frac{d}{dt} s = \n",
    "  \\begin{bmatrix}\n",
    "    \\dot{\\theta} \\\\ \\ddot{\\theta}\n",
    "  \\end{bmatrix} = \n",
    "  \\begin{bmatrix}\n",
    "    \\dot{\\theta} \\\\ -\\frac{g}{l}\\sin\\theta\n",
    "  \\end{bmatrix}\n",
    "\\end{align}\n",
    "こうして得られた常微分方程式は，数値計算に適した形となっている．具体的には，$\\theta = $ `s[0]` ，$\\dot{\\theta} = $ `s[1]` とすることで，\n",
    "\n",
    "```\n",
    "def odefunc(s, t):\n",
    "    theta = s[0]\n",
    "    dtheta = s[1]\n",
    "    ddtheta = -g/l*sin(theta) # <- Equation of motion\n",
    "    return np.r_[dtheta, ddtheta]\n",
    "```\n",
    "のようにして常微分方程式をPythonの関数として記述したうえで\n",
    "\n",
    "```\n",
    "s = odeint(odefunc, s_init, t)\n",
    "```\n",
    "を実行することで常微分方程式を数値的に解くことができる．ただし [`odeint`](https://docs.scipy.org/doc/scipy-0.18.1/reference/generated/scipy.integrate.odeint.html) は [SciPy](https://www.scipy.org/) ライブラリの `integrate` クラスで定義される，常微分方程式を解く関数である．"
   ]
  },
  {
   "cell_type": "code",
   "execution_count": 1,
   "metadata": {
    "collapsed": false
   },
   "outputs": [
    {
     "name": "stdout",
     "output_type": "stream",
     "text": [
      "ODE calculation finished.\n"
     ]
    }
   ],
   "source": [
    "import numpy as np\n",
    "from scipy.integrate import odeint\n",
    "from math import sin\n",
    "\n",
    "''' constants '''\n",
    "m = 1 # mass of the pendulum [kg]\n",
    "l = 1 # length of the pendulum [m]\n",
    "g = 10 # Gravitational acceleration [m/s^2]\n",
    "\n",
    "''' time setting '''\n",
    "t_end = 10 # simulation time [s]\n",
    "t_fps = 50 # frame per second. This value means smoothness of produced graph and animation\n",
    "t_step = 1/t_fps \n",
    "t = np.arange(0, t_end, t_step) \n",
    "\n",
    "''' initial value '''\n",
    "theta_init = 0 # initial value of theta [rad]\n",
    "dtheta_init = 1 # initial value of dot theta [rad/s]\n",
    "s_init = np.array([theta_init, dtheta_init])\n",
    "\n",
    "def odefunc(s, t):\n",
    "    theta = s[0]\n",
    "    dtheta = s[1]\n",
    "    ddtheta = -g/l*sin(theta) # <- Equation of motion\n",
    "    return np.r_[dtheta, ddtheta]\n",
    "\n",
    "s = odeint(odefunc, s_init, t)\n",
    "print('ODE calculation finished.')"
   ]
  },
  {
   "cell_type": "markdown",
   "metadata": {},
   "source": [
    "以上が数値計算を行うプログラムである．\n",
    "```\n",
    "print(np.c_[t, s])\n",
    "```\n",
    "を実行することで，\n",
    "\n",
    "| 時間 | 振子の角度 | 振子の角速度 |  \n",
    "|:------:|:---------:|:---------:|\n",
    "| 0.     |  0.      | 1. |\n",
    "|... | ... | ... |\n",
    "| 19.98   | -0.246 | 0.969 |\n",
    "\n",
    "のように，それぞれの時間で振子の角度がどのようになっていて，また振子の角速度がどのようになっているのかを確認することができる．"
   ]
  },
  {
   "cell_type": "code",
   "execution_count": 2,
   "metadata": {
    "collapsed": false
   },
   "outputs": [
    {
     "name": "stdout",
     "output_type": "stream",
     "text": [
      "[[ 0.          0.          1.        ]\n",
      " [ 0.02        0.01998668  0.99800074]\n",
      " [ 0.04        0.03989343  0.99201173]\n",
      " ..., \n",
      " [ 9.94       -0.05725082  0.98347963]\n",
      " [ 9.96       -0.03747992  0.99295215]\n",
      " [ 9.98       -0.01755919  0.9984571 ]]\n"
     ]
    }
   ],
   "source": [
    "print(np.c_[t, s])"
   ]
  },
  {
   "cell_type": "markdown",
   "metadata": {},
   "source": [
    "## 3. 可視化\n",
    "\n",
    "数値計算が完了したものの，数字の羅列では運動の様子が直感的には理解できない．そこで，振り子の運動の様子を表すアニメーション動画や，振子の角度の時間変化を表すグラフを作る．\n",
    "\n",
    "以下に示す`animfunc` はアニメーション動画を生成する関数である．基本的な原理はパラパラ漫画であり，動画フレームごとに振り子の絵を描いては保存するの繰り返しを行っている．フレームごとの更新は`update_figure`関数が行っている．"
   ]
  },
  {
   "cell_type": "code",
   "execution_count": 3,
   "metadata": {
    "collapsed": false
   },
   "outputs": [],
   "source": [
    "import matplotlib.pyplot as plt\n",
    "import matplotlib.animation as animation\n",
    "from math import cos\n",
    "\n",
    "def animfunc(s, t):\n",
    "    ''' Create mp4 movie file of a pendulum '''\n",
    "    plt.close()\n",
    "    fig = plt.figure()\n",
    "    plt.axis('scaled')\n",
    "    plt.xlim(-1, 1)\n",
    "    plt.ylim(-1.5, .5)\n",
    "    plt.grid('on')\n",
    "    draw_ceiling, = plt.plot([-2, 2], [0, 0], c='k', lw=2)\n",
    "    draw_pendulum, = plt.plot([], [], lw=4, c='b')\n",
    "    draw_mass, = plt.plot([], [], lw=2, marker='o', ms=20, mew=4, mec='b', mfc='c')\n",
    "    indicate_time = plt.text(-0.3, 0.25, [], fontsize=12)\n",
    "\n",
    "\n",
    "    def update_figure(i):\n",
    "        ''' Set data of each movie frame '''\n",
    "        mass_x = l*sin(s[i, 0])\n",
    "        mass_y = - l*cos(s[i, 0])\n",
    "        pendlum_x = [0, mass_x]\n",
    "        pendlum_y = [0, mass_y]\n",
    "        draw_pendulum.set_data(pendlum_x, pendlum_y)\n",
    "        draw_mass.set_data(mass_x, mass_y)\n",
    "        indicate_time.set_text('t = {0:4.2f} [s]'.format(t[i]))\n",
    "\n",
    "    ''' Create a movie file '''\n",
    "    line_ani = animation.FuncAnimation(fig, update_figure, frames=len(t))\n",
    "    line_ani.save('./pendulum.mp4', fps=t_fps)\n",
    "    print('pendulum.mp4 created')"
   ]
  },
  {
   "cell_type": "markdown",
   "metadata": {},
   "source": [
    "`animfunc`を実行することで，`pendulum.mp4`のようなアニメーション動画が保存される．"
   ]
  },
  {
   "cell_type": "code",
   "execution_count": 4,
   "metadata": {
    "collapsed": false
   },
   "outputs": [
    {
     "name": "stdout",
     "output_type": "stream",
     "text": [
      "pendulum.mp4 created\n"
     ]
    }
   ],
   "source": [
    "animfunc(s, t)"
   ]
  },
  {
   "cell_type": "markdown",
   "metadata": {},
   "source": [
    "<video width=\"432\" height=\"288\" controls>\n",
    "  <source src=\"pendulum.mp4\" type=\"video/mp4\">\n",
    "</video>\n",
    "\n",
    "一方，振子の動きをグラフに示したい場合は，例えば次のようにしてプロットを行えば良い．次のプログラムを実行することで，`pendulum_graph.png`のようなイメージファイルが保存される．"
   ]
  },
  {
   "cell_type": "code",
   "execution_count": 5,
   "metadata": {
    "collapsed": false
   },
   "outputs": [],
   "source": [
    "plt.figure()\n",
    "plt.plot(t, s[:, 0])\n",
    "plt.xlabel('t [s]')\n",
    "plt.ylabel('theta [rad]')\n",
    "plt.savefig('pendulum_graph.png')"
   ]
  },
  {
   "cell_type": "markdown",
   "metadata": {},
   "source": [
    "<img src=\"pendulum_graph.png\" width=\"300\">"
   ]
  },
  {
   "cell_type": "markdown",
   "metadata": {},
   "source": [
    "## おわりに\n",
    "\n",
    "以上が，Python で単振り子の運動をシミュレーションを行う例である．シミュレーションを行う上で最低限必要となるの要素のみを取り出してコードを書いたのだが，より高度な計算や表現を行うことはもちろん可能である．\n",
    "\n",
    "## 参考文献\n",
    "\n",
    "\n",
    "\n",
    "###### todo\n",
    "* 単振り子の完成版プログラム\n",
    "* 参考情報の追加\n",
    "* 次節執筆後のリンク"
   ]
  },
  {
   "cell_type": "code",
   "execution_count": null,
   "metadata": {
    "collapsed": true
   },
   "outputs": [],
   "source": []
  }
 ],
 "metadata": {
  "kernelspec": {
   "display_name": "Python 3",
   "language": "python",
   "name": "python3"
  },
  "language_info": {
   "codemirror_mode": {
    "name": "ipython",
    "version": 3
   },
   "file_extension": ".py",
   "mimetype": "text/x-python",
   "name": "python",
   "nbconvert_exporter": "python",
   "pygments_lexer": "ipython3",
   "version": "3.6.0"
  }
 },
 "nbformat": 4,
 "nbformat_minor": 2
}
