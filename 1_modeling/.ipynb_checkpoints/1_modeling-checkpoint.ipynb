{
 "cells": [
  {
   "cell_type": "markdown",
   "metadata": {},
   "source": [
    "# モデル化\n",
    "\n",
    "シミュレーションを行う際に一番最初に行うのは **モデル化** である．シミュレーションの結果は，どのようにモデル化を行ったかによって大きく影響される．当然ではあるが．\n",
    "\n",
    "例えば，単振り子のシミュレーションにおいて，`0_quickstart`では **摩擦** による運動の減衰を考えなかったが，これを考えてモデル化を行ってみる．\n",
    "振子と天井の結点の部分で粘性摩擦を仮定し，角速度に比例した力$-c\\dot{\\theta}$がはたらくものとする．すると，運動方程式は\n",
    "\\begin{align}\n",
    "ml\\ddot{\\theta} = -mg\\sin\\theta - c\\dot{\\theta}\n",
    "\\end{align}\n",
    "となる．"
   ]
  },
  {
   "cell_type": "code",
   "execution_count": 3,
   "metadata": {
    "collapsed": false,
    "scrolled": true
   },
   "outputs": [
    {
     "name": "stdout",
     "output_type": "stream",
     "text": [
      "ODE calculation finished.\n"
     ]
    }
   ],
   "source": [
    "import numpy as np\n",
    "from scipy.integrate import odeint\n",
    "from math import sin\n",
    "\n",
    "''' constants '''\n",
    "m = 1 # mass of the pendulum [kg]\n",
    "l = 1 # length of the pendulum [m]\n",
    "g = 10 # Gravitational acceleration [m/s^2]\n",
    "c = 0.3 # Damping constant [kg.m/(rad.s)]\n",
    "\n",
    "''' time setting '''\n",
    "t_end = 10 # simulation time [s]\n",
    "t_fps = 50 # frame per second. This value means smoothness of produced graph and animation\n",
    "t_step = 1/t_fps \n",
    "t = np.arange(0, t_end, t_step) \n",
    "\n",
    "''' initial value '''\n",
    "theta_init = 0 # initial value of theta [rad]\n",
    "dtheta_init = 1 # initial value of dot theta [rad/s]\n",
    "s_init = np.array([theta_init, dtheta_init])\n",
    "\n",
    "def odefunc(s, t):\n",
    "    theta = s[0]\n",
    "    dtheta = s[1]\n",
    "    ddtheta = -g/l*sin(theta) - c*dtheta# <- Equation of motion\n",
    "    return np.r_[dtheta, ddtheta]\n",
    "\n",
    "s = odeint(odefunc, s_init, t)\n",
    "print('ODE calculation finished.')"
   ]
  },
  {
   "cell_type": "markdown",
   "metadata": {},
   "source": [
    "振り子の角度の時間変化をグラフにすると，このようになっている．"
   ]
  },
  {
   "cell_type": "code",
   "execution_count": 4,
   "metadata": {
    "collapsed": false
   },
   "outputs": [
    {
     "data": {
      "image/png": "[encoded data removed]",
      "text/plain": [
       "<matplotlib.figure.Figure at 0x1105c6eb8>"
      ]
     },
     "metadata": {},
     "output_type": "display_data"
    }
   ],
   "source": [
    "%matplotlib inline\n",
    "import matplotlib.pyplot as plt\n",
    "plt.figure()\n",
    "plt.plot(t, s[:, 0])\n",
    "plt.xlabel('t [s]')\n",
    "plt.ylabel('theta [rad]')\n",
    "plt.show()"
   ]
  },
  {
   "cell_type": "markdown",
   "metadata": {},
   "source": [
    "**摩擦** という要素を考えることによって運動の様相が変化したことがわかる．\n",
    "\n",
    "シミュレーションを行う上では，考えたい物理モデルをどのようにモデル化するかによって，得られる結果が大きく変わる．所望のシミュレーションを行うためには，十分な力学の知識が必要となる．"
   ]
  },
  {
   "cell_type": "markdown",
   "metadata": {},
   "source": [
    "## Lagrange の運動方程式\n",
    "\n",
    "`0_quickstart`では，単振り子の運動方程式をニュートンの運動方程式から求めたが，今度は **ラグランジュの運動方程式** から求める．\n",
    "\n",
    "おもりの運動エネルギーは\n",
    "\\begin{align}\n",
    "  T = \\frac{1}{2}m(l\\dot{\\theta})^2\n",
    "\\end{align}\n",
    "であり，ポテンシャルエネルギー（位置エネルギー）は\n",
    "\\begin{align}\n",
    "  U = - m(-g)(l-l\\cos\\theta) = mgl(1 - \\cos\\theta)\n",
    "\\end{align}\n",
    "である．したがって，系のラグランジアンは\n",
    "\\begin{align}\n",
    "  L = T - U = \\frac{1}{2}m(l\\dot{\\theta})^2 - mgl(1 - \\cos\\theta)\n",
    "\\end{align}\n",
    "であり，ラグランジュの運動方程式は\n",
    "\\begin{align}\n",
    "  \\frac{d}{dt}\\left( \\frac{\\partial L}{\\partial \\dot{\\theta}} \\right) - \\frac{\\partial L}{\\partial \\theta} = 0\n",
    "\\end{align}\n",
    "である．項を一つ一つ丁寧に計算をすると，\n",
    "\\begin{align}\n",
    "  \\frac{\\partial L}{\\partial \\dot{\\theta}} = \\frac{\\partial }{\\partial \\dot{\\theta}} \\left( \\frac{1}{2}m(l\\dot{\\theta})^2 - mgl(1 - \\cos\\theta) \\right) = ml^2\\dot{\\theta}\n",
    "\\end{align}\n",
    "\\begin{align}\n",
    "  \\frac{d}{dt}\\left( \\frac{\\partial L}{\\partial \\dot{\\theta}} \\right) = \\frac{d}{dt} (ml^2\\dot{\\theta}) = ml^2\\ddot{\\theta}\n",
    "\\end{align}\n",
    "\\begin{align}\n",
    "  \\frac{\\partial L}{\\partial \\theta} = \\frac{\\partial }{\\partial \\theta} \\left( \\frac{1}{2}m(l\\dot{\\theta})^2 - mgl(1 - \\cos\\theta) \\right) = -mgl \\sin\\theta\n",
    "\\end{align}\n",
    "より，\n",
    "\\begin{align}\n",
    "  \\frac{d}{dt}\\left( \\frac{\\partial L}{\\partial \\dot{\\theta}} \\right) - \\frac{\\partial L}{\\partial \\theta} = ml^2\\ddot{\\theta} - (-mgl \\sin\\theta) = 0\n",
    "\\end{align}\n",
    "よって，\n",
    "\\begin{align}\n",
    " ml^2\\ddot{\\theta} + mgl \\sin\\theta = 0\n",
    "\\end{align}\n",
    "である．式を整理すると，\n",
    "\\begin{align}\n",
    "\\ddot{\\theta} = -\\frac{g}{l} \\sin\\theta \n",
    "\\end{align}\n",
    "となっており，ニュートンの運動方程式から導出したものと同じ結果が得られたことがわかる．\n",
    "\n"
   ]
  },
  {
   "cell_type": "markdown",
   "metadata": {},
   "source": [
    "## Lagrange の運動方程式を SymPy で計算する\n",
    "\n",
    "Lagrange の運動方程式は運動の自由度についてのミニマムな運動方程式を記述することができる．しかし，ラグランジアンとその偏微分の計算は複雑になりがちである．単振り子の例については，運動の自由度は1であり，かつ非常にシンプルな状況であるため手で計算してもよいのだが，これが他リンク系となったり，運動を2次元から3次元に拡張したりしたときには，もはや手計算で求める気力が起こらない．\n",
    "\n",
    "そこで， Python を使って Lagrange の運動方程式を導く． [SymPy](http://www.sympy.org/en/index.html) の [LagrangesMethod クラス](http://docs.sympy.org/latest/modules/physics/mechanics/api/kane_lagrange.html?highlight=lagrangesmethod#sympy.physics.mechanics.lagrange.LagrangesMethod) を用いる．"
   ]
  },
  {
   "cell_type": "code",
   "execution_count": 13,
   "metadata": {
    "collapsed": false,
    "scrolled": true
   },
   "outputs": [
    {
     "name": "stdout",
     "output_type": "stream",
     "text": [
      "Matrix([[g*l*m*sin(theta(t)) + l**2*m*Derivative(theta(t), t, t)]])\n"
     ]
    }
   ],
   "source": [
    "import sympy as sym\n",
    "import sympy.physics.mechanics as me\n",
    "\n",
    "t, l, m, g = sym.symbols('t l m g')\n",
    "theta = me.dynamicsymbols('theta')\n",
    "dtheta = me.dynamicsymbols('theta', 1)\n",
    "\n",
    "''' Kinetic energy '''\n",
    "T = m*(l*dtheta)**2/2\n",
    "''' Potential energy '''\n",
    "U = -m*(-g)*(l - l*sym.cos(theta))\n",
    "\n",
    "''' Lagurangian '''\n",
    "L = T - U\n",
    "\n",
    "''' Calculating the eom '''\n",
    "LM = me.LagrangesMethod(L, [theta])\n",
    "\n",
    "print(LM.form_lagranges_equations())"
   ]
  },
  {
   "cell_type": "markdown",
   "metadata": {},
   "source": [
    "出力結果は `Matrix([[g*l*m*sin(theta(t)) + l**2*m*Derivative(theta(t), t, t)]])` となっている． "
   ]
  },
  {
   "cell_type": "markdown",
   "metadata": {},
   "source": [
    "## 【参考】散逸項を含む形での Lagrange の運動方程式\n",
    "\n",
    "先に記述した粘性摩擦のような外力については， **散逸関数** とその一般加速度微分項を考えることで運動方程式に加えることができる．\n",
    "\n",
    "散逸関数は，\n",
    "\\begin{align}\n",
    "D = \\frac{1}{2}c\\dot{\\theta}^2\n",
    "\\end{align}\n",
    "である．そして Lagrange の運動方程式は\n",
    "\\begin{align}\n",
    "  \\frac{d}{dt}\\left( \\frac{\\partial L}{\\partial \\dot{\\theta}} \\right) - \\frac{\\partial L}{\\partial \\theta} + \\frac{\\partial D}{\\partial \\dot{\\theta}} = 0\n",
    "\\end{align}\n",
    "を計算することになる．\n",
    "\n",
    "## 【参考】一般化座標への入力を含む形での Lagrange の運動方程式\n",
    "一般化座標$\\theta$について，この方向に加速度を加えるような入力が加えられるとする．つまり，振子の結点の部分にモータが取り付けられていて，このモータから直接トルクが加えられるような状況である．このとき，加えられるトルクを$\\tau$とすると，\n",
    "\\begin{align}\n",
    "  \\frac{d}{dt}\\left( \\frac{\\partial L}{\\partial \\dot{\\theta}} \\right) - \\frac{\\partial L}{\\partial \\theta} = \\tau\n",
    "\\end{align}\n",
    "となる．\n"
   ]
  }
 ],
 "metadata": {
  "kernelspec": {
   "display_name": "Python 3",
   "language": "python",
   "name": "python3"
  },
  "language_info": {
   "codemirror_mode": {
    "name": "ipython",
    "version": 3
   },
   "file_extension": ".py",
   "mimetype": "text/x-python",
   "name": "python",
   "nbconvert_exporter": "python",
   "pygments_lexer": "ipython3",
   "version": "3.6.0"
  }
 },
 "nbformat": 4,
 "nbformat_minor": 2
}
