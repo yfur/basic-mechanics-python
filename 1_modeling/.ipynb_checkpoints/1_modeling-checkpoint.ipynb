{
 "cells": [
  {
   "cell_type": "markdown",
   "metadata": {},
   "source": [
    "# モデル化\n",
    "\n",
    "シミュレーションを行う際に一番最初に行うのは **モデル化** である．シミュレーションの結果は，どのようにモデル化を行ったかによって大きく影響される．当然ではあるが．\n",
    "\n",
    "例えば，単振り子のシミュレーションにおいて，`0_quickstart`では摩擦による運動の減衰を考えなかったが，仮にこれを考えると，このような結果となる．"
   ]
  },
  {
   "cell_type": "code",
   "execution_count": null,
   "metadata": {
    "collapsed": true
   },
   "outputs": [],
   "source": []
  }
 ],
 "metadata": {
  "kernelspec": {
   "display_name": "Python 3",
   "language": "python",
   "name": "python3"
  },
  "language_info": {
   "codemirror_mode": {
    "name": "ipython",
    "version": 3
   },
   "file_extension": ".py",
   "mimetype": "text/x-python",
   "name": "python",
   "nbconvert_exporter": "python",
   "pygments_lexer": "ipython3",
   "version": "3.6.0"
  }
 },
 "nbformat": 4,
 "nbformat_minor": 2
}
