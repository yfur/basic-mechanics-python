{
 "cells": [
  {
   "cell_type": "markdown",
   "metadata": {},
   "source": [
    "# 数値計算\n",
    "\n",
    "単振り子の運動について考える．\n",
    "\n",
    "まずは数値計算に必要なライブラリのインポートから．[NumPy](http://www.numpy.org/)は科学計算を行うための基本的なライブラリである．[SciPy](https://www.scipy.org/)も科学計算を行う上で用いられるライブラリであるが，NumPyを用いて数学や工学などへの応用性のあるクラスが多い．\n",
    "\n",
    "[math](https://docs.python.jp/3/library/math.html) はいつでも使えるデフォルトの数学関数系のライブラリである．"
   ]
  },
  {
   "cell_type": "code",
   "execution_count": 9,
   "metadata": {
    "collapsed": true
   },
   "outputs": [],
   "source": [
    "import numpy as np\n",
    "from scipy.integrate import odeint\n",
    "from math import sin"
   ]
  },
  {
   "cell_type": "markdown",
   "metadata": {},
   "source": [
    "`math`ライブラリから`sin`をインポートしたのは，計算を高速化させるためである．`math`ライブラリで定義される正弦関数と`numpy`ライブラリで定義される正弦関数には違いがある．次の例で示すように，`math.sin` による計算は`numpy.sin` による計算よりも早い．"
   ]
  },
  {
   "cell_type": "code",
   "execution_count": 8,
   "metadata": {
    "collapsed": false
   },
   "outputs": [
    {
     "name": "stdout",
     "output_type": "stream",
     "text": [
      "Calculation by math.sin: 0.31240224838256836 [sec]\n",
      "Calculation by numpy.sin: 2.4031238555908203 [sec]\n"
     ]
    }
   ],
   "source": [
    "import time\n",
    "import numpy\n",
    "\n",
    "''' Sine calculation by math '''\n",
    "start = time.time()\n",
    "for i in range(1000000):\n",
    "    math.sin(i)\n",
    "elapsed_time = time.time() - start\n",
    "print ('Sine calculation by math: {0} [sec]'.format(elapsed_time)) \n",
    "\n",
    "''' Sine calculation by numpy '''\n",
    "start = time.time()\n",
    "for i in range(1000000):\n",
    "    numpy.sin(i)\n",
    "elapsed_time = time.time() - start\n",
    "print ('Sine calculation by numpy: {0} [sec]'.format(elapsed_time)) "
   ]
  },
  {
   "cell_type": "markdown",
   "metadata": {},
   "source": [
    "$\\theta$自身とその一階微分である$\\dot{\\theta}$を縦に並べた列ベクトルをつくり，これを$s$とする．（GiuHub上で行列が上手く表示されないのは仕方のないことなのかな？）\n",
    "\\begin{align}\n",
    "  s = \n",
    "  \\begin{bmatrix}\n",
    "    \\theta \\\\ \\dot{\\theta}\n",
    "  \\end{bmatrix}\n",
    "\\end{align}\n",
    "そして，$s$の時間の一階微分を式で表す．ここで，$\\ddot{\\theta}$は先ほど求めた運動方程式によって，$\\ddot{\\theta}$を含まない形で表すことができる．\n",
    "\\begin{align}\n",
    "  \\frac{d}{dt} s = \n",
    "  \\begin{bmatrix}\n",
    "    \\dot{\\theta} \\\\ \\ddot{\\theta}\n",
    "  \\end{bmatrix} = \n",
    "  \\begin{bmatrix}\n",
    "    \\dot{\\theta} \\\\ -\\frac{g}{l}\\sin\\theta\n",
    "  \\end{bmatrix}\n",
    "\\end{align}\n",
    "こうして得られた常微分方程式は，数値計算に適した形となっている．具体的には，$\\theta = $ `s[0]` ，$\\dot{\\theta} = $ `s[1]` とすることで，\n",
    "\n",
    "```\n",
    "def odefunc(s, t):\n",
    "    theta = s[0]\n",
    "    dtheta = s[1]\n",
    "    ddtheta = -g/l*sin(theta) # <- Equation of motion\n",
    "    return np.r_[dtheta, ddtheta]\n",
    "```\n",
    "のようにして常微分方程式をPythonの関数として記述したうえで\n",
    "\n",
    "```\n",
    "s = odeint(odefunc, s_init, t)\n",
    "```\n",
    "を実行することで常微分方程式を数値的に解くことができる．ただし [`odeint`](https://docs.scipy.org/doc/scipy-0.18.1/reference/generated/scipy.integrate.odeint.html) は [SciPy](https://www.scipy.org/) ライブラリの `integrate` クラスで定義される，常微分方程式を解く関数である．"
   ]
  },
  {
   "cell_type": "code",
   "execution_count": null,
   "metadata": {
    "collapsed": true
   },
   "outputs": [],
   "source": [
    "\n",
    "''' constants '''\n",
    "m = 1 # mass of the pendulum [kg]\n",
    "l = 1 # length of the pendulum [m]\n",
    "g = 10 # Gravitational acceleration [m/s^2]\n",
    "\n",
    "''' time setting '''\n",
    "t_end = 10 # simulation time [s]\n",
    "t_fps = 50 # frame per second. This value means smoothness of produced graph and animation\n",
    "t_step = 1/t_fps \n",
    "t = np.arange(0, t_end, t_step) \n",
    "\n",
    "''' initial value '''\n",
    "theta_init = 0 # initial value of theta [rad]\n",
    "dtheta_init = 1 # initial value of dot theta [rad/s]\n",
    "s_init = np.array([theta_init, dtheta_init])\n",
    "\n",
    "def odefunc(s, t):\n",
    "    theta = s[0]\n",
    "    dtheta = s[1]\n",
    "    ddtheta = -g/l*sin(theta) # <- Equation of motion\n",
    "    return np.r_[dtheta, ddtheta]\n",
    "\n",
    "s = odeint(odefunc, s_init, t)\n",
    "print('ODE calculation finished.')"
   ]
  }
 ],
 "metadata": {
  "kernelspec": {
   "display_name": "Python [conda env:py36]",
   "language": "python",
   "name": "conda-env-py36-py"
  },
  "language_info": {
   "codemirror_mode": {
    "name": "ipython",
    "version": 3
   },
   "file_extension": ".py",
   "mimetype": "text/x-python",
   "name": "python",
   "nbconvert_exporter": "python",
   "pygments_lexer": "ipython3",
   "version": "3.6.0"
  }
 },
 "nbformat": 4,
 "nbformat_minor": 2
}
